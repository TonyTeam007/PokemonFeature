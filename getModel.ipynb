{
 "cells": [
  {
   "cell_type": "code",
   "execution_count": 52,
   "metadata": {},
   "outputs": [],
   "source": [
    "from sklearn.preprocessing import LabelEncoder\n",
    "from sklearn.tree import DecisionTreeClassifier\n",
    "from sklearn.metrics import confusion_matrix, accuracy_score\n",
    "import pickle\n",
    "import xgboost as xgb\n",
    "from sklearn.ensemble import VotingClassifier"
   ]
  },
  {
   "cell_type": "code",
   "execution_count": 53,
   "metadata": {},
   "outputs": [],
   "source": [
    "hogvectors_train = pickle.load(open('hogvectors_train.pkl', 'rb'))\n",
    "hogvectors_test = pickle.load(open('hogvectors_test.pkl', 'rb'))"
   ]
  },
  {
   "cell_type": "code",
   "execution_count": 54,
   "metadata": {},
   "outputs": [],
   "source": [
    "X_train_data = [hogfeature_Xtrain[0:8100] for hogfeature_Xtrain in hogvectors_train]\n",
    "X_test_data = [hogfeature_Xtest[0:8100] for hogfeature_Xtest in hogvectors_test]"
   ]
  },
  {
   "cell_type": "code",
   "execution_count": 55,
   "metadata": {},
   "outputs": [],
   "source": [
    "# ดึงข้อมูลทุกแถว แต่เอาแค่คอลัมน์สุดท้าย มาเป็น class\n",
    "Y_train_data = [hogfeature_Ytrain[-1] for hogfeature_Ytrain in hogvectors_train]\n",
    "Y_test_data = [hogfeature_Ytest[-1] for hogfeature_Ytest in hogvectors_test]"
   ]
  },
  {
   "cell_type": "code",
   "execution_count": 56,
   "metadata": {},
   "outputs": [],
   "source": [
    "label_encoder = LabelEncoder() # สร้าง object label_encoder จาก Class LabelEncoder เพราะต้องใช้ในการแปลงชื่อยี่ห้อรถยนต์เป็นตัวเลข\n",
    "y_cls_train = label_encoder.fit(Y_train_data) # ใช้ .fit(Y_train_data) เพื่อใช้ในการเรียนรู้ว่า ชื่อยี่ห้อรถยนต์จะถูกแทนด้วยตัวเลขอะไรบ้าง ( ทำ mapping )\n",
    "y_labelNum_train = label_encoder.transform(Y_train_data) # หลังจากใช้ .fit เพื่ออบรมแล้วจะเป็นตัวเลขตาม mapping ที่ถูกสร้างไว้\n",
    "y_cls_test = label_encoder.fit(Y_test_data)\n",
    "y_labelNum_test = label_encoder.transform(Y_test_data)\n",
    "# # แปลงชุดข้อมูล สตริง ยี่ห้อรถจาก Test เป็น TableIndex"
   ]
  },
  {
   "cell_type": "code",
   "execution_count": 57,
   "metadata": {},
   "outputs": [],
   "source": [
    "# สร้าง object จาก model DecisionTree\n",
    "clf = DecisionTreeClassifier(random_state=42)"
   ]
  },
  {
   "cell_type": "code",
   "execution_count": 58,
   "metadata": {},
   "outputs": [],
   "source": [
    "# สร้าง object จาก modelXGBoost\n",
    "xgb_model = xgb.XGBClassifier(objective=\"multi:softmax\",num_class=len(label_encoder.classes_), random_state=42)"
   ]
  },
  {
   "cell_type": "code",
   "execution_count": 59,
   "metadata": {},
   "outputs": [],
   "source": [
    "# ทำการรวม 2โมเดล ที่สร้างไว้มารวมด้วยกัน \n",
    "ensemble_model = VotingClassifier(estimators=[('DecisionTree', clf), ('XGBoost', xgb_model)], voting='hard',weights=[1, 4])"
   ]
  },
  {
   "cell_type": "code",
   "execution_count": 60,
   "metadata": {},
   "outputs": [
    {
     "data": {
      "text/plain": [
       "VotingClassifier(estimators=[('DecisionTree',\n",
       "                              DecisionTreeClassifier(random_state=42)),\n",
       "                             ('XGBoost',\n",
       "                              XGBClassifier(base_score=None, booster=None,\n",
       "                                            callbacks=None,\n",
       "                                            colsample_bylevel=None,\n",
       "                                            colsample_bynode=None,\n",
       "                                            colsample_bytree=None,\n",
       "                                            early_stopping_rounds=None,\n",
       "                                            enable_categorical=False,\n",
       "                                            eval_metric=None, gamma=None,\n",
       "                                            gpu_id=None, grow_policy=None,\n",
       "                                            importance_type=None,\n",
       "                                            interaction_constraints=None,\n",
       "                                            learning_rate=None, max_bin=None,\n",
       "                                            max_cat_to_onehot=None,\n",
       "                                            max_delta_step=None, max_depth=None,\n",
       "                                            max_leaves=None,\n",
       "                                            min_child_weight=None, missing=nan,\n",
       "                                            monotone_constraints=None,\n",
       "                                            n_estimators=100, n_jobs=None,\n",
       "                                            num_class=5, num_parallel_tree=None,\n",
       "                                            objective='multi:softmax',\n",
       "                                            predictor=None, random_state=42, ...))],\n",
       "                 weights=[1, 4])"
      ]
     },
     "execution_count": 60,
     "metadata": {},
     "output_type": "execute_result"
    }
   ],
   "source": [
    "# .fit() X_train_data เป็นการให้โมเดลมันเรียนรู้ข้อมูลที่เหมาะสมกับข้อมูล ส่วน Y_train_data เป็นคำตอบที่ควรจะได้จากการเรียนรู้\n",
    "ensemble_model.fit(X_train_data, y_labelNum_train) "
   ]
  },
  {
   "cell_type": "code",
   "execution_count": 61,
   "metadata": {},
   "outputs": [],
   "source": [
    "# ใช้ข้อมูลทดสอบ X_test_data เพื่อไว้ทำนายผลลัพธ์ที่ได้จากโมเดลนี้ของข้อมูลทดสอบ\n",
    "y_pred = ensemble_model.predict(X_test_data) "
   ]
  },
  {
   "cell_type": "code",
   "execution_count": 62,
   "metadata": {},
   "outputs": [
    {
     "name": "stdout",
     "output_type": "stream",
     "text": [
      "Accuracy:  0.40860215053763443\n",
      "Confusion Matrix:  [[ 8  4  1  1  3]\n",
      " [ 3  9  1  3  7]\n",
      " [ 3  3  2  4  0]\n",
      " [ 7  4  1 14  2]\n",
      " [ 2  1  2  3  5]]\n"
     ]
    }
   ],
   "source": [
    "accuracy = accuracy_score(y_labelNum_test, y_pred)\n",
    "confusionMatrix = confusion_matrix(y_labelNum_test, y_pred)\n",
    "print(\"Accuracy: \", accuracy)\n",
    "print(\"Confusion Matrix: \", confusionMatrix)"
   ]
  },
  {
   "cell_type": "code",
   "execution_count": 63,
   "metadata": {},
   "outputs": [],
   "source": [
    "path_model = 'model_genhog.pkl'\n",
    "pickle.dump(ensemble_model, open(path_model, 'wb'))"
   ]
  }
 ],
 "metadata": {
  "kernelspec": {
   "display_name": "env",
   "language": "python",
   "name": "python3"
  },
  "language_info": {
   "codemirror_mode": {
    "name": "ipython",
    "version": 3
   },
   "file_extension": ".py",
   "mimetype": "text/x-python",
   "name": "python",
   "nbconvert_exporter": "python",
   "pygments_lexer": "ipython3",
   "version": "3.7.9"
  }
 },
 "nbformat": 4,
 "nbformat_minor": 2
}
