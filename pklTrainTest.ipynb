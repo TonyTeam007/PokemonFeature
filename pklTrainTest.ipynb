{
 "cells": [
  {
   "cell_type": "code",
   "execution_count": 56,
   "metadata": {},
   "outputs": [],
   "source": [
    "import os\n",
    "import cv2\n",
    "import base64\n",
    "import requests\n",
    "import pickle"
   ]
  },
  {
   "cell_type": "code",
   "execution_count": 57,
   "metadata": {},
   "outputs": [],
   "source": [
    "path = \"image/train\" # Cars Dataset/train & Cats Dataset/test\n",
    "list_x = []\n",
    "list_y = []"
   ]
  },
  {
   "cell_type": "code",
   "execution_count": 58,
   "metadata": {},
   "outputs": [],
   "source": [
    "def imgtovec(img):\n",
    "    try:\n",
    "        resized_img = cv2.resize(img, (128, 128), cv2.INTER_AREA)\n",
    "        v, buffer = cv2.imencode(\".jpg\", resized_img)\n",
    "        img_str = base64.b64encode(buffer).decode('utf-8')\n",
    "        image_data_string = \"data:image/jpeg;base64,\" + img_str\n",
    "\n",
    "        url = \"http://localhost:8000/api/genhog\"\n",
    "        params = {\"img\": image_data_string}\n",
    "\n",
    "        response = requests.get(url, json=params)\n",
    "\n",
    "        if response.status_code == 200:\n",
    "            return response.json()\n",
    "        else:\n",
    "            return {\"error\": f\"เรียก API ไม่สำเร็จ API CODE : {response.status_code}\"}\n",
    "    except Exception as ex:\n",
    "        return {\"error\": f\"เกิดข้อผิดพลาด: {str(ex)}\"}"
   ]
  },
  {
   "cell_type": "code",
   "execution_count": 59,
   "metadata": {},
   "outputs": [],
   "source": [
    "for sub in os.listdir(path):\n",
    "    for fn in os.listdir(os.path.join(path, sub)):\n",
    "        path_file_img = os.path.join(path, sub, fn)\n",
    "        readImage = cv2.imread(path_file_img, cv2.IMREAD_GRAYSCALE)\n",
    "        list_x.append(readImage)\n",
    "        list_y.append(sub)"
   ]
  },
  {
   "cell_type": "code",
   "execution_count": 60,
   "metadata": {},
   "outputs": [],
   "source": [
    "hogvectors = []\n",
    "for i in range(len(list_x)):\n",
    "    res = imgtovec(list_x[i])\n",
    "    vec = list(res[\"HOG\"])\n",
    "    vec.append(list_y[i])\n",
    "    hogvectors.append(vec)\n"
   ]
  },
  {
   "cell_type": "code",
   "execution_count": 61,
   "metadata": {},
   "outputs": [
    {
     "name": "stdout",
     "output_type": "stream",
     "text": [
      "data preparation is done\n"
     ]
    }
   ],
   "source": [
    "write_path = \"hogvectors_train.pkl\"\n",
    "pickle.dump(hogvectors, open(write_path, \"wb\"))\n",
    "print(\"data preparation is done\")"
   ]
  }
 ],
 "metadata": {
  "kernelspec": {
   "display_name": "env",
   "language": "python",
   "name": "python3"
  },
  "language_info": {
   "codemirror_mode": {
    "name": "ipython",
    "version": 3
   },
   "file_extension": ".py",
   "mimetype": "text/x-python",
   "name": "python",
   "nbconvert_exporter": "python",
   "pygments_lexer": "ipython3",
   "version": "3.7.9"
  }
 },
 "nbformat": 4,
 "nbformat_minor": 2
}
